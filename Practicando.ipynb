{
  "nbformat": 4,
  "nbformat_minor": 0,
  "metadata": {
    "colab": {
      "provenance": [],
      "authorship_tag": "ABX9TyOKNLY8iij5SMvrefq+rTSU",
      "include_colab_link": true
    },
    "kernelspec": {
      "name": "python3",
      "display_name": "Python 3"
    },
    "language_info": {
      "name": "python"
    }
  },
  "cells": [
    {
      "cell_type": "markdown",
      "metadata": {
        "id": "view-in-github",
        "colab_type": "text"
      },
      "source": [
        "<a href=\"https://colab.research.google.com/github/Beatriz1712/Practica-Python/blob/main/Practicando.ipynb\" target=\"_parent\"><img src=\"https://colab.research.google.com/assets/colab-badge.svg\" alt=\"Open In Colab\"/></a>"
      ]
    },
    {
      "cell_type": "code",
      "execution_count": null,
      "metadata": {
        "colab": {
          "base_uri": "https://localhost:8080/"
        },
        "id": "OgpL6oyJqtUn",
        "outputId": "eb89dad1-fba6-4fef-a016-8f6747b92fba"
      },
      "outputs": [
        {
          "output_type": "stream",
          "name": "stdout",
          "text": [
            "Digita tu nombre Betty\n",
            "Hola, Betty\n"
          ]
        }
      ],
      "source": [
        "#1 - Crea un programa que solicite al usuario que escriba su nombre y luego imprima \"Hola, [nombre].\"\n",
        "nombre = input('Digita tu nombre ')\n",
        "saludo = f\"Hola, {nombre}\"\n",
        "print(saludo)"
      ]
    },
    {
      "cell_type": "code",
      "source": [
        "#3 - Crea un programa que solicite al usuario que escriba su nombre, edad y altura en metros, y luego imprima \"Hola, [nombre], tienes [edad] años y mides [altura] metros.\"\n",
        "nombre1 = input('Digita tu nombre ')\n",
        "edad = input('Digita tu edad ')\n",
        "altura = input('Digita tu altura ')\n",
        "saludo = f\"Hola, {nombre1}, tienes {edad} años y mides {altura} metros.\"\n",
        "print(saludo)\n"
      ],
      "metadata": {
        "colab": {
          "base_uri": "https://localhost:8080/"
        },
        "id": "9IgLjciqsMAW",
        "outputId": "87c4765f-def2-476a-ca5c-8d1996bb9270"
      },
      "execution_count": null,
      "outputs": [
        {
          "output_type": "stream",
          "name": "stdout",
          "text": [
            "Digita tu nombre Tayra\n",
            "Digita tu edad 15\n",
            "Digita tu altura 1.59\n",
            "Hola, Tayra, tienes 15 años y mides 1.59 metros.\n"
          ]
        }
      ]
    },
    {
      "cell_type": "code",
      "source": [
        "# 1 - Escribe un programa que pida a la persona usuaria que proporcione dos\n",
        "# números y muestre el número más grande.\n",
        "num_1 = input('ingresa un mumero ')\n",
        "num_2 = input('ingresa otro numero ')\n",
        "if num_1 > num_2:\n",
        "    print(f'el numero mas grande es {num_1}')\n",
        "else:\n",
        "    print(f'el numero mas grande es {num_2}')"
      ],
      "metadata": {
        "colab": {
          "base_uri": "https://localhost:8080/"
        },
        "id": "xd6B8aXBOR6v",
        "outputId": "5a2470b3-f74c-4465-bc43-2b00a14ce763"
      },
      "execution_count": null,
      "outputs": [
        {
          "output_type": "stream",
          "name": "stdout",
          "text": [
            "ingresa un mumero 120\n",
            "ingresa otro numero 530\n",
            "el numero mas grande es 530\n"
          ]
        }
      ]
    },
    {
      "cell_type": "code",
      "source": [
        "# 2 - Escribe un programa que solicite el porcentaje de crecimiento de\n",
        "# producción de una empresa e informe si hubo un crecimiento (porcentaje\n",
        "# positivo) o una disminución (porcentaje negativo).\n",
        "porct_1 =  input('ingresa porcentaje 1 ')\n",
        "porct_2 = input('ingresa porcentaje 2 ')\n",
        "if porct_1 > porct_2:\n",
        "  print('porcentaje negativo')\n",
        "else:\n",
        "  print('porcentaje positivo')\n"
      ],
      "metadata": {
        "colab": {
          "base_uri": "https://localhost:8080/"
        },
        "id": "IyV2FRS_PE2v",
        "outputId": "55e1b71e-5e1c-464f-bd64-7292c4aaf195"
      },
      "execution_count": null,
      "outputs": [
        {
          "output_type": "stream",
          "name": "stdout",
          "text": [
            "ingresa porcentaje 1 80\n",
            "ingresa porcentaje 2 30\n",
            "porcentaje negativo\n"
          ]
        }
      ]
    },
    {
      "cell_type": "code",
      "source": [
        "from re import U\n",
        "# 3 - Escribe un programa que determine si una letra proporcionada por la\n",
        "from re import U\n",
        "# 3 - Escribe un programa que determine si una letra proporcionada por la\n",
        "# persona usuaria es una vocal o una consonante.\n",
        "vocal ={'a','e','i','o','u'}\n",
        "consonante = ['b','c','d','f','g','h','j','k','l','m','n','p','q','r','s','t','v','w','x','y','z']\n",
        "letra = input('ingresa una letra ')\n",
        "if letra in vocal:\n",
        "  print('es una vocal')\n",
        "else:\n",
        "  print('es una consonante')\n",
        "\n"
      ],
      "metadata": {
        "colab": {
          "base_uri": "https://localhost:8080/"
        },
        "id": "3uOkhkemQR-l",
        "outputId": "e45a9ea3-e172-4d8c-989d-1a8577fb8987"
      },
      "execution_count": null,
      "outputs": [
        {
          "output_type": "stream",
          "name": "stdout",
          "text": [
            "ingresa una letra a\n",
            "es una vocal\n"
          ]
        }
      ]
    },
    {
      "cell_type": "code",
      "source": [
        "#6 - Escribe un programa que lea tres números y los muestre en orden descendente.\n",
        "\n",
        "\n",
        "#6 - Escribe un programa que lea tres números y los muestre en orden descendente.\n",
        "\n",
        "\n",
        "#6 - Escribe un programa que lea tres números y los muestre en orden descendente.\n",
        "num_1 = int(input('ingresa un numero: '))\n",
        "num_2 = int(input('ingresa un numero: '))\n",
        "num_3 = int(input('ingresa un numero: '))\n",
        "if num_1 > num_2 and num_1 > num_3 :\n",
        "  if num_2 > num_3:\n",
        "    print(f'numeros en orden descendentes:  {num_1}, {num_2}, {num_3}')\n",
        "  else:\n",
        "    print(f'numeros en orden descendentes:  {num_1}, {num_3}, {num_2}')\n",
        "elif num_2 > num_1 and num_2 > num_3 :\n",
        "  if num_1 > num_3:\n",
        "    print(f'numeros en orden descendentes:  {num_2}, {num_1}, {num_3}')\n",
        "  else:\n",
        "    print(f'numeros en orden descendentes:  {num_2}, {num_3}, {num_1}')\n",
        "elif num_3 > num_1 and num_3 > num_2 :\n",
        "  if num_1 > num_2:\n",
        "    print(f'numeros en orden descendentes:  {num_3}, {num_1}, {num_2}')\n",
        "  else:\n",
        "    print(f'numeros en orden descendentes:  {num_3}, {num_2}, {num_1}')\n",
        "\n",
        "\n",
        "\n"
      ],
      "metadata": {
        "colab": {
          "base_uri": "https://localhost:8080/"
        },
        "id": "WHVxcXe-THEy",
        "outputId": "59517ced-50b9-44ac-bb33-6a084738f658"
      },
      "execution_count": null,
      "outputs": [
        {
          "output_type": "stream",
          "name": "stdout",
          "text": [
            "ingresa un numero: 9\n",
            "ingresa un numero: 6\n",
            "ingresa un numero: 8\n",
            "numeros en orden descendentes:  9, 8, 6\n"
          ]
        }
      ]
    },
    {
      "cell_type": "code",
      "source": [
        "# 7 -Escribe un programa que pregunte en qué turno estudia la persona usuaria\n",
        "# (\"mañana\", \"tarde\" o \"noche\") y muestre el mensaje \"¡Buenos Días!\",\n",
        "# \"¡Buenas Tardes!\", \"¡Buenas Noches!\" o \"Valor Inválido!\", según el caso.\n",
        "saludo = input('que turno estudias? ')\n",
        "if saludo == 'mañana':\n",
        "  print('¡Buenos Días!')\n",
        "elif saludo == 'tarde':\n",
        "  print('¡Buenas Tardes!')\n",
        "elif saludo == 'noche':\n",
        "  print('¡Buenas Noches!')\n",
        "else:\n",
        "  print('Valor Inválido!')"
      ],
      "metadata": {
        "colab": {
          "base_uri": "https://localhost:8080/"
        },
        "id": "cStaC5h_ZhI6",
        "outputId": "d2e8bc5f-d816-4395-bf85-22a5b783305f"
      },
      "execution_count": null,
      "outputs": [
        {
          "output_type": "stream",
          "name": "stdout",
          "text": [
            "que turno estudias? noche\n",
            "¡Buenas Noches!\n"
          ]
        }
      ]
    },
    {
      "cell_type": "code",
      "source": [
        "# 9 - Escribe un programa que pida un número a la persona usuaria y le informe\n",
        "# si es entero o decimal.\n",
        "numero = (input('Ingresa un numero: '))\n",
        "if '.' in numero:\n",
        "  print('el numero es decimal ')\n",
        "else:\n",
        "  print('el numero es entero')\n",
        "\n"
      ],
      "metadata": {
        "colab": {
          "base_uri": "https://localhost:8080/"
        },
        "id": "5aGy73DHd1-3",
        "outputId": "789af0da-e507-4816-8279-77595287eebb"
      },
      "execution_count": null,
      "outputs": [
        {
          "output_type": "stream",
          "name": "stdout",
          "text": [
            "Ingresa un numero: 89\n",
            "el numero es entero\n"
          ]
        }
      ]
    },
    {
      "cell_type": "code",
      "source": [
        "#10 - Un programa debe ser escrito para leer dos números y luego preguntar a la persona usuaria qué operación desea realizar.\n",
        "# El resultado de la operación debe incluir información sobre el número, si\n",
        "# es par o impar, positivo o negativo, e entero o decimal.\n",
        "\n",
        "\n",
        "numero1 = input('ingrese un numero ')\n",
        "numero2 = input('ingerse otro numero ')\n",
        "entrada = input('que operacion desea realizar?: ')\n",
        "if (numero1 and numero2) in '%2 = 0':\n",
        "  print(f'numeros pares: numero1 , numero2 ')\n",
        "else:\n",
        "  print(f'numeros impares: {numero1} , {numero2}')\n",
        "if '.' in  numero1 and numero2:\n",
        "  print(f'numeros decimales: {numero1} , {numero2}')\n",
        "else:\n",
        "  print(f'numeros enteros:{numero1} , {numero2} ')"
      ],
      "metadata": {
        "colab": {
          "base_uri": "https://localhost:8080/"
        },
        "id": "bDyTuh-Ig7S8",
        "outputId": "7092fa76-8737-4045-d8fc-89024244ecf2"
      },
      "execution_count": null,
      "outputs": [
        {
          "output_type": "stream",
          "name": "stdout",
          "text": [
            "ingrese un numero 1\n",
            "ingerse otro numero 4\n",
            "que operacion desea realizar?: k\n",
            "numeros impares: 1 , 4\n",
            "numeros enteros:1 , 4 \n"
          ]
        }
      ]
    }
  ]
}